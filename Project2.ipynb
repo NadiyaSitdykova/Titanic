{
 "cells": [
  {
   "cell_type": "markdown",
   "metadata": {},
   "source": [
    "# P2: Investigate a Dataset\n",
    "## 1. Overview of the project\n",
    "\n",
    "The main goal of this project is to explore which factors could be associated with survivial rates for the Titanic disaster. I chose to explore correlation between survival rate and each of five factors: passenger class, sex, age category (child or adult), parenting status within grownups (parent or not parent) and marriage status of woman (miss or mrs). This factors was chosen based on the following intuitions:\n",
    "* Richer people (from higher passenger class) got more chances to survive\n",
    "* \"Women and children first\"\n",
    "* Saved children needed to be accompanied by parent, so adults with children might have a better chance to survived than not parents.\n",
    "* Married women would have help of their husbands, while unmarried women have no one to care about them\n",
    "\n",
    "Further analysis checks those intutions as well as explores relations between multiple factors.\n",
    "\n",
    "## 2. Data preparation\n",
    "### 2.1 Establishing plan of data preparations"
   ]
  },
  {
   "cell_type": "code",
   "execution_count": 162,
   "metadata": {
    "collapsed": false
   },
   "outputs": [],
   "source": [
    "%matplotlib inline\n",
    "import numpy as np\n",
    "import pandas as pd\n",
    "import matplotlib.pyplot as plt\n",
    "import seaborn as sns\n",
    "from scipy import stats\n",
    "\n",
    "#Load data form CSV\n",
    "titanic_data = pd.read_csv('titanic-data.csv', header=0)"
   ]
  },
  {
   "cell_type": "markdown",
   "metadata": {},
   "source": [
    "Let's take a look at our data:"
   ]
  },
  {
   "cell_type": "code",
   "execution_count": 163,
   "metadata": {
    "collapsed": false
   },
   "outputs": [
    {
     "data": {
      "text/html": [
       "<div>\n",
       "<table border=\"1\" class=\"dataframe\">\n",
       "  <thead>\n",
       "    <tr style=\"text-align: right;\">\n",
       "      <th></th>\n",
       "      <th>PassengerId</th>\n",
       "      <th>Survived</th>\n",
       "      <th>Pclass</th>\n",
       "      <th>Name</th>\n",
       "      <th>Sex</th>\n",
       "      <th>Age</th>\n",
       "      <th>SibSp</th>\n",
       "      <th>Parch</th>\n",
       "      <th>Ticket</th>\n",
       "      <th>Fare</th>\n",
       "      <th>Cabin</th>\n",
       "      <th>Embarked</th>\n",
       "    </tr>\n",
       "  </thead>\n",
       "  <tbody>\n",
       "    <tr>\n",
       "      <th>0</th>\n",
       "      <td>1</td>\n",
       "      <td>0</td>\n",
       "      <td>3</td>\n",
       "      <td>Braund, Mr. Owen Harris</td>\n",
       "      <td>male</td>\n",
       "      <td>22.0</td>\n",
       "      <td>1</td>\n",
       "      <td>0</td>\n",
       "      <td>A/5 21171</td>\n",
       "      <td>7.2500</td>\n",
       "      <td>NaN</td>\n",
       "      <td>S</td>\n",
       "    </tr>\n",
       "    <tr>\n",
       "      <th>1</th>\n",
       "      <td>2</td>\n",
       "      <td>1</td>\n",
       "      <td>1</td>\n",
       "      <td>Cumings, Mrs. John Bradley (Florence Briggs Th...</td>\n",
       "      <td>female</td>\n",
       "      <td>38.0</td>\n",
       "      <td>1</td>\n",
       "      <td>0</td>\n",
       "      <td>PC 17599</td>\n",
       "      <td>71.2833</td>\n",
       "      <td>C85</td>\n",
       "      <td>C</td>\n",
       "    </tr>\n",
       "    <tr>\n",
       "      <th>2</th>\n",
       "      <td>3</td>\n",
       "      <td>1</td>\n",
       "      <td>3</td>\n",
       "      <td>Heikkinen, Miss. Laina</td>\n",
       "      <td>female</td>\n",
       "      <td>26.0</td>\n",
       "      <td>0</td>\n",
       "      <td>0</td>\n",
       "      <td>STON/O2. 3101282</td>\n",
       "      <td>7.9250</td>\n",
       "      <td>NaN</td>\n",
       "      <td>S</td>\n",
       "    </tr>\n",
       "    <tr>\n",
       "      <th>3</th>\n",
       "      <td>4</td>\n",
       "      <td>1</td>\n",
       "      <td>1</td>\n",
       "      <td>Futrelle, Mrs. Jacques Heath (Lily May Peel)</td>\n",
       "      <td>female</td>\n",
       "      <td>35.0</td>\n",
       "      <td>1</td>\n",
       "      <td>0</td>\n",
       "      <td>113803</td>\n",
       "      <td>53.1000</td>\n",
       "      <td>C123</td>\n",
       "      <td>S</td>\n",
       "    </tr>\n",
       "    <tr>\n",
       "      <th>4</th>\n",
       "      <td>5</td>\n",
       "      <td>0</td>\n",
       "      <td>3</td>\n",
       "      <td>Allen, Mr. William Henry</td>\n",
       "      <td>male</td>\n",
       "      <td>35.0</td>\n",
       "      <td>0</td>\n",
       "      <td>0</td>\n",
       "      <td>373450</td>\n",
       "      <td>8.0500</td>\n",
       "      <td>NaN</td>\n",
       "      <td>S</td>\n",
       "    </tr>\n",
       "  </tbody>\n",
       "</table>\n",
       "</div>"
      ],
      "text/plain": [
       "   PassengerId  Survived  Pclass  \\\n",
       "0            1         0       3   \n",
       "1            2         1       1   \n",
       "2            3         1       3   \n",
       "3            4         1       1   \n",
       "4            5         0       3   \n",
       "\n",
       "                                                Name     Sex   Age  SibSp  \\\n",
       "0                            Braund, Mr. Owen Harris    male  22.0      1   \n",
       "1  Cumings, Mrs. John Bradley (Florence Briggs Th...  female  38.0      1   \n",
       "2                             Heikkinen, Miss. Laina  female  26.0      0   \n",
       "3       Futrelle, Mrs. Jacques Heath (Lily May Peel)  female  35.0      1   \n",
       "4                           Allen, Mr. William Henry    male  35.0      0   \n",
       "\n",
       "   Parch            Ticket     Fare Cabin Embarked  \n",
       "0      0         A/5 21171   7.2500   NaN        S  \n",
       "1      0          PC 17599  71.2833   C85        C  \n",
       "2      0  STON/O2. 3101282   7.9250   NaN        S  \n",
       "3      0            113803  53.1000  C123        S  \n",
       "4      0            373450   8.0500   NaN        S  "
      ]
     },
     "execution_count": 163,
     "metadata": {},
     "output_type": "execute_result"
    }
   ],
   "source": [
    "\n",
    "titanic_data.head()"
   ]
  },
  {
   "cell_type": "markdown",
   "metadata": {},
   "source": [
    "In order to clean data for further analysis, we need to identify value types and missing values:"
   ]
  },
  {
   "cell_type": "code",
   "execution_count": 164,
   "metadata": {
    "collapsed": false
   },
   "outputs": [
    {
     "name": "stdout",
     "output_type": "stream",
     "text": [
      "<class 'pandas.core.frame.DataFrame'>\n",
      "RangeIndex: 891 entries, 0 to 890\n",
      "Data columns (total 12 columns):\n",
      "PassengerId    891 non-null int64\n",
      "Survived       891 non-null int64\n",
      "Pclass         891 non-null int64\n",
      "Name           891 non-null object\n",
      "Sex            891 non-null object\n",
      "Age            714 non-null float64\n",
      "SibSp          891 non-null int64\n",
      "Parch          891 non-null int64\n",
      "Ticket         891 non-null object\n",
      "Fare           891 non-null float64\n",
      "Cabin          204 non-null object\n",
      "Embarked       889 non-null object\n",
      "dtypes: float64(2), int64(5), object(5)\n",
      "memory usage: 83.6+ KB\n"
     ]
    }
   ],
   "source": [
    "titanic_data.info()"
   ]
  },
  {
   "cell_type": "markdown",
   "metadata": {
    "collapsed": true
   },
   "source": [
    "As our analysis is going to be concentrated on such factors as Passenger Class, Sex, Age and Number of Parents/Children Aboard, we will perform following operations:\n",
    "* Fill missing values in Age column\n",
    "* Create two new features: AgeCategory, ParentingStatus, Status\n",
    "* Creating numerical analogs for categorical features\n",
    "\n",
    "### 2.2. Filling missing values\n",
    "\n",
    "At first, we'll look at ages distribution."
   ]
  },
  {
   "cell_type": "code",
   "execution_count": 165,
   "metadata": {
    "collapsed": false
   },
   "outputs": [
    {
     "data": {
      "text/plain": [
       "<matplotlib.text.Text at 0x7f00e222ea90>"
      ]
     },
     "execution_count": 165,
     "metadata": {},
     "output_type": "execute_result"
    },
    {
     "data": {
      "image/png": "[encoded data removed]",
      "text/plain": [
       "<matplotlib.figure.Figure at 0x7f00e22625d0>"
      ]
     },
     "metadata": {},
     "output_type": "display_data"
    }
   ],
   "source": [
    "plt.hist(titanic_data['Age'].dropna(), bins=20)\n",
    "plt.xlabel(\"Age\")\n",
    "plt.ylabel(\"Count\")\n",
    "plt.title(\"Count of passengers by age\")"
   ]
  },
  {
   "cell_type": "markdown",
   "metadata": {},
   "source": [
    "Looks like Ages distribution is positevely skewed. So a median would be more reasonable guess for missing values, than a mean. For even better use, we could use the age that was typical for each combination of passenger class, sex and port of embarkation. Let's see a table with each of this medians:"
   ]
  },
  {
   "cell_type": "code",
   "execution_count": 166,
   "metadata": {
    "collapsed": false
   },
   "outputs": [
    {
     "data": {
      "text/html": [
       "<div>\n",
       "<table border=\"1\" class=\"dataframe\">\n",
       "  <thead>\n",
       "    <tr style=\"text-align: right;\">\n",
       "      <th></th>\n",
       "      <th></th>\n",
       "      <th></th>\n",
       "      <th>Age</th>\n",
       "    </tr>\n",
       "    <tr>\n",
       "      <th>Pclass</th>\n",
       "      <th>Sex</th>\n",
       "      <th>Embarked</th>\n",
       "      <th></th>\n",
       "    </tr>\n",
       "  </thead>\n",
       "  <tbody>\n",
       "    <tr>\n",
       "      <th rowspan=\"6\" valign=\"top\">1</th>\n",
       "      <th rowspan=\"3\" valign=\"top\">female</th>\n",
       "      <th>C</th>\n",
       "      <td>37.00</td>\n",
       "    </tr>\n",
       "    <tr>\n",
       "      <th>Q</th>\n",
       "      <td>33.00</td>\n",
       "    </tr>\n",
       "    <tr>\n",
       "      <th>S</th>\n",
       "      <td>33.00</td>\n",
       "    </tr>\n",
       "    <tr>\n",
       "      <th rowspan=\"3\" valign=\"top\">male</th>\n",
       "      <th>C</th>\n",
       "      <td>36.50</td>\n",
       "    </tr>\n",
       "    <tr>\n",
       "      <th>Q</th>\n",
       "      <td>44.00</td>\n",
       "    </tr>\n",
       "    <tr>\n",
       "      <th>S</th>\n",
       "      <td>42.00</td>\n",
       "    </tr>\n",
       "    <tr>\n",
       "      <th rowspan=\"6\" valign=\"top\">2</th>\n",
       "      <th rowspan=\"3\" valign=\"top\">female</th>\n",
       "      <th>C</th>\n",
       "      <td>22.00</td>\n",
       "    </tr>\n",
       "    <tr>\n",
       "      <th>Q</th>\n",
       "      <td>30.00</td>\n",
       "    </tr>\n",
       "    <tr>\n",
       "      <th>S</th>\n",
       "      <td>29.00</td>\n",
       "    </tr>\n",
       "    <tr>\n",
       "      <th rowspan=\"3\" valign=\"top\">male</th>\n",
       "      <th>C</th>\n",
       "      <td>29.50</td>\n",
       "    </tr>\n",
       "    <tr>\n",
       "      <th>Q</th>\n",
       "      <td>57.00</td>\n",
       "    </tr>\n",
       "    <tr>\n",
       "      <th>S</th>\n",
       "      <td>30.00</td>\n",
       "    </tr>\n",
       "    <tr>\n",
       "      <th rowspan=\"6\" valign=\"top\">3</th>\n",
       "      <th rowspan=\"3\" valign=\"top\">female</th>\n",
       "      <th>C</th>\n",
       "      <td>14.25</td>\n",
       "    </tr>\n",
       "    <tr>\n",
       "      <th>Q</th>\n",
       "      <td>20.00</td>\n",
       "    </tr>\n",
       "    <tr>\n",
       "      <th>S</th>\n",
       "      <td>23.00</td>\n",
       "    </tr>\n",
       "    <tr>\n",
       "      <th rowspan=\"3\" valign=\"top\">male</th>\n",
       "      <th>C</th>\n",
       "      <td>26.00</td>\n",
       "    </tr>\n",
       "    <tr>\n",
       "      <th>Q</th>\n",
       "      <td>27.00</td>\n",
       "    </tr>\n",
       "    <tr>\n",
       "      <th>S</th>\n",
       "      <td>25.00</td>\n",
       "    </tr>\n",
       "  </tbody>\n",
       "</table>\n",
       "</div>"
      ],
      "text/plain": [
       "                          Age\n",
       "Pclass Sex    Embarked       \n",
       "1      female C         37.00\n",
       "              Q         33.00\n",
       "              S         33.00\n",
       "       male   C         36.50\n",
       "              Q         44.00\n",
       "              S         42.00\n",
       "2      female C         22.00\n",
       "              Q         30.00\n",
       "              S         29.00\n",
       "       male   C         29.50\n",
       "              Q         57.00\n",
       "              S         30.00\n",
       "3      female C         14.25\n",
       "              Q         20.00\n",
       "              S         23.00\n",
       "       male   C         26.00\n",
       "              Q         27.00\n",
       "              S         25.00"
      ]
     },
     "execution_count": 166,
     "metadata": {},
     "output_type": "execute_result"
    }
   ],
   "source": [
    "median_ages = titanic_data[['Pclass', 'Sex', 'Embarked', 'Age']].groupby(['Pclass', 'Sex', 'Embarked']).median()\n",
    "median_ages"
   ]
  },
  {
   "cell_type": "code",
   "execution_count": 167,
   "metadata": {
    "collapsed": false
   },
   "outputs": [
    {
     "data": {
      "text/plain": [
       "<matplotlib.text.Text at 0x7f00e20fc290>"
      ]
     },
     "execution_count": 167,
     "metadata": {},
     "output_type": "execute_result"
    },
    {
     "data": {
      "image/png": "[encoded data removed]",
      "text/plain": [
       "<matplotlib.figure.Figure at 0x7f00e226f150>"
      ]
     },
     "metadata": {},
     "output_type": "display_data"
    }
   ],
   "source": [
    "#Filling missing values with corresponding medians from table\n",
    "titanic_data['FilledAge'] = titanic_data['Age']\n",
    "for sex in ['male', 'female']:\n",
    "    for pclass in range(1, 4):\n",
    "        for embarked in ['C', 'Q', 'S']:\n",
    "            titanic_data.loc[(titanic_data.Age.isnull()) & \n",
    "                             (titanic_data.Sex == sex) & \n",
    "                             (titanic_data.Pclass == pclass) & \n",
    "                             (titanic_data.Embarked == embarked), 'FilledAge'] \\\n",
    "            = median_ages.loc[pclass, sex, embarked][0]\n",
    "            \n",
    "#Comparison of distributions\n",
    "plt.hist(titanic_data['FilledAge'], bins=20, alpha=0.5, label=\"FilledAges\")\n",
    "plt.hist(titanic_data['Age'].dropna(), bins=20, alpha=0.5, label=\"original Ages\")\n",
    "plt.xlabel(\"Age\")\n",
    "plt.ylabel(\"Count\")\n",
    "plt.title(\"Count of passengers by age\")"
   ]
  },
  {
   "cell_type": "markdown",
   "metadata": {},
   "source": [
    "We can see, that filling missing age values by medians corresponding particular combination of class, sex and embarkation port gives us a good fit to the original ages distributions. But we should remember that this opeartion gives us a downplayed variance, which will lead to the impaired in some degree results in computations of any correlation with this feature."
   ]
  },
  {
   "cell_type": "markdown",
   "metadata": {
    "collapsed": true
   },
   "source": [
    "### 2.3. Creation of new features\n"
   ]
  },
  {
   "cell_type": "code",
   "execution_count": 168,
   "metadata": {
    "collapsed": false
   },
   "outputs": [
    {
     "data": {
      "text/plain": [
       "Adult    745\n",
       "Child    146\n",
       "Name: AgeCategory, dtype: int64"
      ]
     },
     "execution_count": 168,
     "metadata": {},
     "output_type": "execute_result"
    }
   ],
   "source": [
    "titanic_data['AgeCategory'] = 'Adult'\n",
    "titanic_data.loc[(titanic_data['FilledAge'] <= 18), 'AgeCategory'] = 'Child'\n",
    "titanic_data['AgeCategory'].value_counts()"
   ]
  },
  {
   "cell_type": "code",
   "execution_count": 169,
   "metadata": {
    "collapsed": false
   },
   "outputs": [
    {
     "data": {
      "text/plain": [
       "NotParent    770\n",
       "Parent       121\n",
       "Name: ParentingStatus, dtype: int64"
      ]
     },
     "execution_count": 169,
     "metadata": {},
     "output_type": "execute_result"
    }
   ],
   "source": [
    "titanic_data['ParentingStatus'] = 'NotParent'\n",
    "titanic_data.loc[(titanic_data['AgeCategory'] == 'Adult') & \n",
    "                 (titanic_data['Parch'] > 0), 'ParentingStatus'] = 'Parent'\n",
    "titanic_data['ParentingStatus'].value_counts()"
   ]
  },
  {
   "cell_type": "code",
   "execution_count": 170,
   "metadata": {
    "collapsed": false
   },
   "outputs": [
    {
     "data": {
      "text/plain": [
       "Mr              517\n",
       "Miss            182\n",
       "Mrs             125\n",
       "Master           40\n",
       "Dr                7\n",
       "Rev               6\n",
       "Mlle              2\n",
       "Col               2\n",
       "Major             2\n",
       "Lady              1\n",
       "Jonkheer          1\n",
       "Don               1\n",
       "Ms                1\n",
       "Mme               1\n",
       "Capt              1\n",
       "the Countess      1\n",
       "Sir               1\n",
       "Name: Status, dtype: int64"
      ]
     },
     "execution_count": 170,
     "metadata": {},
     "output_type": "execute_result"
    }
   ],
   "source": [
    "def define_status(s):\n",
    "    raw_name = s['Name']\n",
    "    status_beginning = raw_name.find(',') + 2\n",
    "    status_ending = raw_name.find('.')\n",
    "    status = raw_name[status_beginning:status_ending]\n",
    "    return status\n",
    "\n",
    "titanic_data['Status'] = titanic_data.apply(define_status, axis=1)\n",
    "titanic_data['Status'].value_counts()"
   ]
  },
  {
   "cell_type": "markdown",
   "metadata": {
    "collapsed": true
   },
   "source": [
    "### 2.4. Creating numerical analogs of categorical features"
   ]
  },
  {
   "cell_type": "code",
   "execution_count": 171,
   "metadata": {
    "collapsed": false,
    "scrolled": true
   },
   "outputs": [
    {
     "name": "stdout",
     "output_type": "stream",
     "text": [
      "<class 'pandas.core.frame.DataFrame'>\n",
      "RangeIndex: 891 entries, 0 to 890\n",
      "Data columns (total 19 columns):\n",
      "PassengerId           891 non-null int64\n",
      "Survived              891 non-null int64\n",
      "Pclass                891 non-null int64\n",
      "Name                  891 non-null object\n",
      "Sex                   891 non-null object\n",
      "Age                   714 non-null float64\n",
      "SibSp                 891 non-null int64\n",
      "Parch                 891 non-null int64\n",
      "Ticket                891 non-null object\n",
      "Fare                  891 non-null float64\n",
      "Cabin                 204 non-null object\n",
      "Embarked              889 non-null object\n",
      "FilledAge             891 non-null float64\n",
      "AgeCategory           891 non-null object\n",
      "ParentingStatus       891 non-null object\n",
      "Status                891 non-null object\n",
      "NumSex                891 non-null int64\n",
      "NumAgeCategory        891 non-null int64\n",
      "NumParentingStatus    891 non-null int64\n",
      "dtypes: float64(3), int64(8), object(8)\n",
      "memory usage: 132.3+ KB\n"
     ]
    }
   ],
   "source": [
    "titanic_data['NumSex'] = titanic_data['Sex'].map( {'male': 0, 'female': 1} )\n",
    "titanic_data['NumAgeCategory'] = titanic_data['AgeCategory'].map( {'Child': 1, 'Adult': 2} )\n",
    "titanic_data['NumParentingStatus'] = titanic_data['ParentingStatus'].map( {'NotParent': 1, 'Parent': 2} )\n",
    "titanic_data.info()"
   ]
  },
  {
   "cell_type": "markdown",
   "metadata": {},
   "source": [
    "## 3. Data exploration\n",
    "### 3.1 Survival rate in different passanger classes\n",
    "It should be noted that 3rd class contains more than twice the amount of data points, than two others classes. Nonetheless, all classes have enough values for the further statistical method."
   ]
  },
  {
   "cell_type": "code",
   "execution_count": 172,
   "metadata": {
    "collapsed": false
   },
   "outputs": [
    {
     "data": {
      "text/plain": [
       "3    491\n",
       "1    216\n",
       "2    184\n",
       "Name: Pclass, dtype: int64"
      ]
     },
     "execution_count": 172,
     "metadata": {},
     "output_type": "execute_result"
    }
   ],
   "source": [
    "titanic_data['Pclass'].value_counts()"
   ]
  },
  {
   "cell_type": "markdown",
   "metadata": {},
   "source": [
    "Now, let's visualize the survival rate by passanger class"
   ]
  },
  {
   "cell_type": "code",
   "execution_count": 173,
   "metadata": {
    "collapsed": false
   },
   "outputs": [
    {
     "data": {
      "text/plain": [
       "<matplotlib.axes._subplots.AxesSubplot at 0x7f00e212c090>"
      ]
     },
     "execution_count": 173,
     "metadata": {},
     "output_type": "execute_result"
    },
    {
     "data": {
      "image/png": "[encoded data removed]",
      "text/plain": [
       "<matplotlib.figure.Figure at 0x7f00e2262950>"
      ]
     },
     "metadata": {},
     "output_type": "display_data"
    }
   ],
   "source": [
    "ax = sns.barplot(x=\"Pclass\", y=\"Survived\", data=titanic_data)\n",
    "ax.set(title='Survival rate by passanger class', xlabel='Passenger class', ylabel='Survival rate')\n",
    "ax"
   ]
  },
  {
   "cell_type": "markdown",
   "metadata": {},
   "source": [
    "Let's perform a Chi-Squared test for independence with a confidence level of $\\alpha = 0.05$ to reject $H_0$. \n",
    "\n",
    "$H_0:$ $Survival$ $rate$ $and$ $Passenger$ $class$ $are$ $independent$\n",
    "\n",
    "$H_A:$ $Survival$ $rate$ $and$ $Passenger$ $class$ $are$ $dependent$"
   ]
  },
  {
   "cell_type": "code",
   "execution_count": 174,
   "metadata": {
    "collapsed": false,
    "scrolled": false
   },
   "outputs": [
    {
     "data": {
      "text/plain": [
       "(102.88898875696056, 4.5492517112987927e-23)"
      ]
     },
     "execution_count": 174,
     "metadata": {},
     "output_type": "execute_result"
    }
   ],
   "source": [
    "observed_class = pd.crosstab(titanic_data['Survived'], titanic_data['Pclass'])\n",
    "chi_squared, p_values, _, _ = stats.chi2_contingency(observed=observed_class)\n",
    "(chi_squared, p_values)"
   ]
  },
  {
   "cell_type": "markdown",
   "metadata": {
    "collapsed": true
   },
   "source": [
    "The test shows a Chi-Squared statistic of 102.89 with a p-value way to less than 0.05, so the null hypothesis could be rejected.\n",
    "\n",
    "### 3.2 Survival rate by sex\n",
    "\n",
    "It should be noted that male sex contains more data points, than female sex. Nonetheless, both sexes have enough values for the further statistical method."
   ]
  },
  {
   "cell_type": "code",
   "execution_count": 175,
   "metadata": {
    "collapsed": false
   },
   "outputs": [
    {
     "data": {
      "text/plain": [
       "male      577\n",
       "female    314\n",
       "Name: Sex, dtype: int64"
      ]
     },
     "execution_count": 175,
     "metadata": {},
     "output_type": "execute_result"
    }
   ],
   "source": [
    "titanic_data['Sex'].value_counts()"
   ]
  },
  {
   "cell_type": "markdown",
   "metadata": {},
   "source": [
    "Now let's visualize survival rate by sex"
   ]
  },
  {
   "cell_type": "code",
   "execution_count": 176,
   "metadata": {
    "collapsed": false
   },
   "outputs": [
    {
     "data": {
      "text/plain": [
       "<matplotlib.axes._subplots.AxesSubplot at 0x7f00e1f7fc90>"
      ]
     },
     "execution_count": 176,
     "metadata": {},
     "output_type": "execute_result"
    },
    {
     "data": {
      "image/png": "[encoded data removed]",
      "text/plain": [
       "<matplotlib.figure.Figure at 0x7f00e1eafc90>"
      ]
     },
     "metadata": {},
     "output_type": "display_data"
    }
   ],
   "source": [
    "ax = sns.barplot(x=\"Sex\", y=\"Survived\", data=titanic_data)\n",
    "ax.set(title='Survival rate by sex', xlabel='Sex', ylabel='Survival rate')\n",
    "ax"
   ]
  },
  {
   "cell_type": "markdown",
   "metadata": {},
   "source": [
    "Let's perform a Chi-Squared test for independence with a confidence level of $\\alpha = 0.05$ to reject $H_0$. \n",
    "\n",
    "$H_0:$ $Survival$ $rate$ $and$ $Sex$ $are$ $independent$\n",
    "\n",
    "$H_A:$ $Survival$ $rate$ $and$ $Sex$ $are$ $dependent$"
   ]
  },
  {
   "cell_type": "code",
   "execution_count": 177,
   "metadata": {
    "collapsed": false
   },
   "outputs": [
    {
     "data": {
      "text/plain": [
       "(260.71702016732104, 1.1973570627755645e-58)"
      ]
     },
     "execution_count": 177,
     "metadata": {},
     "output_type": "execute_result"
    }
   ],
   "source": [
    "observed_sex = pd.crosstab(titanic_data['Survived'], titanic_data['NumSex'])\n",
    "chi_squared, p_values, _, _ = stats.chi2_contingency(observed=observed_sex)\n",
    "(chi_squared, p_values)"
   ]
  },
  {
   "cell_type": "markdown",
   "metadata": {
    "collapsed": true
   },
   "source": [
    "The test shows a Chi-Squared statistic of 260.72 with a p-value way to less than 0.05, so the null hypothesis could be rejected.\n",
    "\n",
    "### 3.3 Survival rate by Age Category\n",
    "\n",
    "It should be noted that GrownUp age category contains much more data points, than Child age category. Nonetheless, both age categories have enough values for the further statistical method."
   ]
  },
  {
   "cell_type": "code",
   "execution_count": 178,
   "metadata": {
    "collapsed": false
   },
   "outputs": [
    {
     "data": {
      "text/plain": [
       "Adult    745\n",
       "Child    146\n",
       "Name: AgeCategory, dtype: int64"
      ]
     },
     "execution_count": 178,
     "metadata": {},
     "output_type": "execute_result"
    }
   ],
   "source": [
    "titanic_data['AgeCategory'].value_counts()"
   ]
  },
  {
   "cell_type": "markdown",
   "metadata": {},
   "source": [
    "Now let's visualize survival rate by Age Category"
   ]
  },
  {
   "cell_type": "code",
   "execution_count": 179,
   "metadata": {
    "collapsed": false
   },
   "outputs": [
    {
     "data": {
      "text/plain": [
       "<matplotlib.axes._subplots.AxesSubplot at 0x7f00e1e64450>"
      ]
     },
     "execution_count": 179,
     "metadata": {},
     "output_type": "execute_result"
    },
    {
     "data": {
      "image/png": "[encoded data removed]",
      "text/plain": [
       "<matplotlib.figure.Figure at 0x7f00e1eaf310>"
      ]
     },
     "metadata": {},
     "output_type": "display_data"
    }
   ],
   "source": [
    "ax = sns.barplot(x=\"AgeCategory\", y=\"Survived\", data=titanic_data)\n",
    "ax.set(title='Survival rate by AgeCategory', xlabel='Age category', ylabel='Survival rate')\n",
    "ax"
   ]
  },
  {
   "cell_type": "markdown",
   "metadata": {},
   "source": [
    "Let's perform a Chi-Squared test for independence with a confidence level of $\\alpha = 0.05$ to reject $H_0$. \n",
    "\n",
    "$H_0:$ $Survival$ $rate$ $and$ $AgeCategory$ $are$ $independent$\n",
    "\n",
    "$H_A:$ $Survival$ $rate$ $and$ $AgeCategory$ $are$ $dependent$"
   ]
  },
  {
   "cell_type": "code",
   "execution_count": 180,
   "metadata": {
    "collapsed": false
   },
   "outputs": [
    {
     "data": {
      "text/plain": [
       "(10.558297906673593, 0.001156676565384819)"
      ]
     },
     "execution_count": 180,
     "metadata": {},
     "output_type": "execute_result"
    }
   ],
   "source": [
    "observed_age_category = pd.crosstab(titanic_data['Survived'], titanic_data['NumAgeCategory'])\n",
    "chi_squared, p_values, _, _ = stats.chi2_contingency(observed=observed_age_category)\n",
    "(chi_squared, p_values)"
   ]
  },
  {
   "cell_type": "markdown",
   "metadata": {
    "collapsed": true
   },
   "source": [
    "The test shows a Chi-Squared statistic of 10.56 with a p-value less than 0.05, so the null hypothesis could be rejected.\n",
    "\n",
    "### 3.4 Survival rate by Parenting Status within grownups.\n",
    "\n",
    "It should be noted that there is much more not parents within grownups, than parents. Nonetheless, there is enough values for each of Parenting status within grownups for the further statistical method."
   ]
  },
  {
   "cell_type": "code",
   "execution_count": 181,
   "metadata": {
    "collapsed": false
   },
   "outputs": [
    {
     "data": {
      "text/plain": [
       "NotParent    624\n",
       "Parent       121\n",
       "Name: ParentingStatus, dtype: int64"
      ]
     },
     "execution_count": 181,
     "metadata": {},
     "output_type": "execute_result"
    }
   ],
   "source": [
    "titanic_data_adult = titanic_data[titanic_data['AgeCategory'] == 'Adult']\n",
    "titanic_data_adult['ParentingStatus'].value_counts()"
   ]
  },
  {
   "cell_type": "markdown",
   "metadata": {},
   "source": [
    "Let's visualize survival rate py parenting status within adults"
   ]
  },
  {
   "cell_type": "code",
   "execution_count": 182,
   "metadata": {
    "collapsed": false
   },
   "outputs": [
    {
     "data": {
      "text/plain": [
       "<matplotlib.axes._subplots.AxesSubplot at 0x7f00e1d9f5d0>"
      ]
     },
     "execution_count": 182,
     "metadata": {},
     "output_type": "execute_result"
    },
    {
     "data": {
      "image/png": "[encoded data removed]",
      "text/plain": [
       "<matplotlib.figure.Figure at 0x7f00e303f050>"
      ]
     },
     "metadata": {},
     "output_type": "display_data"
    }
   ],
   "source": [
    "ax = sns.barplot(x=\"ParentingStatus\", y=\"Survived\", data=titanic_data_adult)\n",
    "ax.set(title='Survival rate by parenting status within adults', xlabel='Parenting status', ylabel='Survival rate')\n",
    "ax"
   ]
  },
  {
   "cell_type": "markdown",
   "metadata": {},
   "source": [
    "Let's perform a Chi-Squared test for independence with a confidence level of $\\alpha = 0.05$ to reject $H_0$. \n",
    "\n",
    "$H_0:$ $Survival$ $rate$ $and$ $ParentingStatus$ $are$ $independent$\n",
    "\n",
    "$H_A:$ $Survival$ $rate$ $and$ $ParentingStatus$ $are$ $dependent$"
   ]
  },
  {
   "cell_type": "code",
   "execution_count": 183,
   "metadata": {
    "collapsed": false
   },
   "outputs": [
    {
     "data": {
      "text/plain": [
       "(7.2092804505884178, 0.0072527565411012115)"
      ]
     },
     "execution_count": 183,
     "metadata": {},
     "output_type": "execute_result"
    }
   ],
   "source": [
    "observed_parenting_status = pd.crosstab(titanic_data_adult['Survived'], titanic_data_adult['NumParentingStatus'])\n",
    "chi_squared, p_values, _, _ = stats.chi2_contingency(observed=observed_parenting_status)\n",
    "(chi_squared, p_values)"
   ]
  },
  {
   "cell_type": "markdown",
   "metadata": {},
   "source": [
    "The test shows a Chi-Squared statistic of 7.21 with a p-value less than 0.05, so the null hypothesis could be rejected.\n",
    "\n",
    "### 3.5 Survival rate by marriage status for women\n",
    "\n",
    "Both marriage status 'Miss' and 'Mrs' have about the same data points and there is enough values for each of this marriage statuses for the further statistical method."
   ]
  },
  {
   "cell_type": "code",
   "execution_count": 184,
   "metadata": {
    "collapsed": false
   },
   "outputs": [
    {
     "data": {
      "text/plain": [
       "Miss    182\n",
       "Mrs     125\n",
       "Name: Status, dtype: int64"
      ]
     },
     "execution_count": 184,
     "metadata": {},
     "output_type": "execute_result"
    }
   ],
   "source": [
    "titanic_data_miss_or_mrs = titanic_data[(titanic_data['Status'] == 'Mrs') | (titanic_data['Status'] == 'Miss')]\n",
    "titanic_data_miss_or_mrs['Status'].value_counts()"
   ]
  },
  {
   "cell_type": "markdown",
   "metadata": {},
   "source": [
    "Let's visualize survival rate by marriage status for women."
   ]
  },
  {
   "cell_type": "code",
   "execution_count": 185,
   "metadata": {
    "collapsed": false
   },
   "outputs": [
    {
     "data": {
      "text/plain": [
       "<matplotlib.axes._subplots.AxesSubplot at 0x7f00e1cdcd50>"
      ]
     },
     "execution_count": 185,
     "metadata": {},
     "output_type": "execute_result"
    },
    {
     "data": {
      "image/png": "[encoded data removed]",
      "text/plain": [
       "<matplotlib.figure.Figure at 0x7f00e2f42a50>"
      ]
     },
     "metadata": {},
     "output_type": "display_data"
    }
   ],
   "source": [
    "\n",
    "ax = sns.barplot(x=\"Status\", y=\"Survived\", data=titanic_data_miss_or_mrs)\n",
    "ax.set(title='Survival rate by marriage status for women', xlabel='Status', ylabel='Survival rate')\n",
    "ax"
   ]
  },
  {
   "cell_type": "markdown",
   "metadata": {},
   "source": [
    "Let's perform a Chi-Squared test for independence with a confidence level of $\\alpha = 0.05$ to reject $H_0$. \n",
    "\n",
    "$H_0:$ $Survival$ $rate$ $and$ $Status$ $for$ $women$ $are$ $independent$\n",
    "\n",
    "$H_A:$ $Survival$ $rate$ $and$ $Status$ $for$ $women$ $are$ $dependent$"
   ]
  },
  {
   "cell_type": "code",
   "execution_count": 186,
   "metadata": {
    "collapsed": false
   },
   "outputs": [
    {
     "data": {
      "text/plain": [
       "(2.9177723433018414, 0.087608734831152557)"
      ]
     },
     "execution_count": 186,
     "metadata": {},
     "output_type": "execute_result"
    }
   ],
   "source": [
    "observed_status = pd.crosstab(titanic_data_miss_or_mrs['Survived'], titanic_data_miss_or_mrs['Status'])\n",
    "chi_squared, p_values, _, _ = stats.chi2_contingency(observed=observed_status)\n",
    "(chi_squared, p_values)"
   ]
  },
  {
   "cell_type": "markdown",
   "metadata": {
    "collapsed": true
   },
   "source": [
    "The test shows a Chi-Squared statistic of 2.92 with a p-value more than 0.05, so the null hypothesis couldn't be rejected."
   ]
  },
  {
   "cell_type": "markdown",
   "metadata": {},
   "source": [
    "### 3.6 Survival rate by class and sex"
   ]
  },
  {
   "cell_type": "code",
   "execution_count": 187,
   "metadata": {
    "collapsed": false
   },
   "outputs": [
    {
     "data": {
      "text/plain": [
       "<matplotlib.text.Text at 0x7f00e19e7d90>"
      ]
     },
     "execution_count": 187,
     "metadata": {},
     "output_type": "execute_result"
    },
    {
     "data": {
      "image/png": "[encoded data removed]",
      "text/plain": [
       "<matplotlib.figure.Figure at 0x7f00e1c7be10>"
      ]
     },
     "metadata": {},
     "output_type": "display_data"
    }
   ],
   "source": [
    "g = sns.factorplot(x=\"Sex\", y=\"Survived\", col=\"Pclass\", data=titanic_data, kind=\"bar\", aspect=.6)\n",
    "g.set_axis_labels(\"\", \"Survival rate\")\n",
    "plt.subplots_adjust(top=0.8)\n",
    "g.fig.suptitle('Survival rate by class and sex')"
   ]
  },
  {
   "cell_type": "markdown",
   "metadata": {},
   "source": [
    "Here we can see, that survival rate is lower in a lower passenger class amongs both males and females, but in the same time survival rate amongst females even from third class is higher, than amongst males from first class.\n",
    "\n",
    "### 3.7 Survival rate by class and age category"
   ]
  },
  {
   "cell_type": "code",
   "execution_count": 188,
   "metadata": {
    "collapsed": false
   },
   "outputs": [
    {
     "data": {
      "text/plain": [
       "<matplotlib.text.Text at 0x7f00e2326cd0>"
      ]
     },
     "execution_count": 188,
     "metadata": {},
     "output_type": "execute_result"
    },
    {
     "data": {
      "image/png": "[encoded data removed]",
      "text/plain": [
       "<matplotlib.figure.Figure at 0x7f00e1a21550>"
      ]
     },
     "metadata": {},
     "output_type": "display_data"
    }
   ],
   "source": [
    "g = sns.factorplot(x=\"AgeCategory\", y=\"Survived\", col=\"Pclass\", data=titanic_data, kind=\"bar\", aspect=.6)\n",
    "g.set_axis_labels(\"\", \"Survival rate\")\n",
    "plt.subplots_adjust(top=0.8)\n",
    "g.fig.suptitle('Survival rate by class and age category')"
   ]
  },
  {
   "cell_type": "markdown",
   "metadata": {},
   "source": [
    "Within each passanger class survival rate for children is higher than for adults. But we can also see that children from 3rd class have lower survival rate, than adults in both first and second class. I guess, high survival rates of adult women influnced overall adult's survival rate a lot. "
   ]
  },
  {
   "cell_type": "markdown",
   "metadata": {},
   "source": [
    "### 3.8 Age distribution \n",
    "\n",
    "Let's see age distribution for different groups of passengers."
   ]
  },
  {
   "cell_type": "code",
   "execution_count": 193,
   "metadata": {
    "collapsed": false,
    "scrolled": true
   },
   "outputs": [
    {
     "data": {
      "text/plain": [
       "<matplotlib.axes._subplots.AxesSubplot at 0x7f00e1458710>"
      ]
     },
     "execution_count": 193,
     "metadata": {},
     "output_type": "execute_result"
    },
    {
     "data": {
      "image/png": "[encoded data removed]",
      "text/plain": [
       "<matplotlib.figure.Figure at 0x7f00e1533350>"
      ]
     },
     "metadata": {},
     "output_type": "display_data"
    }
   ],
   "source": [
    "fig, (ax1, ax2) = plt.subplots(ncols=2, figsize=(10,4))\n",
    "sns.violinplot(data=titanic_data, x='Sex', y='Age', ax=ax1)\n",
    "sns.violinplot(data=titanic_data_miss_or_mrs, x='Status', y='Age', ax=ax2)"
   ]
  },
  {
   "cell_type": "markdown",
   "metadata": {},
   "source": [
    "On a left plot we can see that in general female passangers are younger, than males. Also age distribution for females is kind of multimodal: there is a small second peak around 2 years. As could be expected, married woman are seems to be older in general than single ones. There is also second peak around 2 years for miss, which is not surprising. We would expect that female children are not married yet."
   ]
  },
  {
   "cell_type": "markdown",
   "metadata": {},
   "source": [
    "## 4. Conclusion\n",
    "\n",
    "Findings:\n",
    "\n",
    "From the analysis performed in the Data Exploartion section it was found that class, sex, age category and parenting status were correlated with survival rate, while marriage status of woman was not. Marriage status failed to pass an independent sample t-test at a criterion of $\\alpha = 0.05$ so it failed to show a statistically significant difference between the groups means. \n",
    "While result support most of the intuitons mentioned in the beginning of project, they only show correlations and can't be used to infer any causations. \n",
    "\n",
    "Limitations:\n",
    "\n",
    "It worths to mentions, that before the analysis we filled missing values of Age using the median values matching sex, class and emabrking port. This caused the the correlation between age category (based on age) and surviving to be understated. \n",
    "Also it's important to remember, that this project was focused on single variable associations. Meanwhile some part of variable correlation might be explained by another related variable. For example, some of the correlation between parenting status and survival rate can be explained by the higher rate of females amongst parents, as shown below. "
   ]
  },
  {
   "cell_type": "code",
   "execution_count": 190,
   "metadata": {
    "collapsed": false
   },
   "outputs": [
    {
     "data": {
      "image/png": "[encoded data removed]",
      "text/plain": [
       "<matplotlib.figure.Figure at 0x7f00e22c5d90>"
      ]
     },
     "metadata": {},
     "output_type": "display_data"
    }
   ],
   "source": [
    " g = sns.factorplot(\"Sex\", col=\"ParentingStatus\", data=titanic_data_adult, kind=\"count\")"
   ]
  },
  {
   "cell_type": "markdown",
   "metadata": {},
   "source": [
    "Also important to keep in mind, that there could be other variables, affecting correlation, which are not even presented in this dataset."
   ]
  }
 ],
 "metadata": {
  "anaconda-cloud": {},
  "kernelspec": {
   "display_name": "Python [default]",
   "language": "python",
   "name": "python2"
  },
  "language_info": {
   "codemirror_mode": {
    "name": "ipython",
    "version": 2
   },
   "file_extension": ".py",
   "mimetype": "text/x-python",
   "name": "python",
   "nbconvert_exporter": "python",
   "pygments_lexer": "ipython2",
   "version": "2.7.12"
  }
 },
 "nbformat": 4,
 "nbformat_minor": 1
}
